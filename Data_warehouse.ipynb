{
  "nbformat": 4,
  "nbformat_minor": 0,
  "metadata": {
    "colab": {
      "provenance": [],
      "authorship_tag": "ABX9TyPDpdi3fZ8hZna+jsAeF0Lh",
      "include_colab_link": true
    },
    "kernelspec": {
      "name": "python3",
      "display_name": "Python 3"
    },
    "language_info": {
      "name": "python"
    }
  },
  "cells": [
    {
      "cell_type": "markdown",
      "metadata": {
        "id": "view-in-github",
        "colab_type": "text"
      },
      "source": [
        "<a href=\"https://colab.research.google.com/github/HillaryFerreira/Data-warehouse-Lake/blob/main/Data_warehouse.ipynb\" target=\"_parent\"><img src=\"https://colab.research.google.com/assets/colab-badge.svg\" alt=\"Open In Colab\"/></a>"
      ]
    },
    {
      "cell_type": "code",
      "execution_count": 2,
      "metadata": {
        "colab": {
          "base_uri": "https://localhost:8080/"
        },
        "id": "8KJFj76OerJV",
        "outputId": "3c2a5e02-e2ad-4862-c383-8c3dae365f6f"
      },
      "outputs": [
        {
          "output_type": "stream",
          "name": "stdout",
          "text": [
            "Conteúdo do Data Warehouse:\n",
            "           data  produto_id  quantidade  valor_unitario  valor_total  \\\n",
            "0    2024-04-01         363         170              66         5009   \n",
            "1    2024-04-08         363           1             127         4914   \n",
            "2    2024-04-03         199          30              83         5433   \n",
            "3    2024-04-04         199         195             134         3971   \n",
            "4    2024-04-09         413          72              96         7207   \n",
            "..          ...         ...         ...             ...          ...   \n",
            "995  2024-04-10         428          73              99         4626   \n",
            "996  2024-04-14          29          18             104         1379   \n",
            "997  2024-04-13         202          86             180         3943   \n",
            "998  2024-04-20         476         192             183         3216   \n",
            "999  2024-04-08          67          26              62          264   \n",
            "\n",
            "            nome    categoria  \n",
            "0    Produto 363       Roupas  \n",
            "1    Produto 363       Roupas  \n",
            "2    Produto 199       Roupas  \n",
            "3    Produto 199       Roupas  \n",
            "4    Produto 413  Eletrônicos  \n",
            "..           ...          ...  \n",
            "995  Produto 428  Eletrônicos  \n",
            "996   Produto 29  Eletrônicos  \n",
            "997  Produto 202       Roupas  \n",
            "998  Produto 476       Roupas  \n",
            "999   Produto 67       Roupas  \n",
            "\n",
            "[1000 rows x 7 columns]\n"
          ]
        }
      ],
      "source": [
        "import pandas as pd\n",
        "import numpy as np\n",
        "\n",
        "# Quantidade de produtos\n",
        "num_produtos = 600\n",
        "\n",
        "# Criação de um dicionário com informações dos produtos\n",
        "produtos = {\n",
        "    'produto_id': [i for i in range(1, num_produtos + 1)],\n",
        "    'nome': [f'Produto {i}' for i in range(1, num_produtos + 1)],\n",
        "    'categoria': np.random.choice(['Eletrônicos', 'Roupas', 'Alimentos'], num_produtos)\n",
        "}\n",
        "\n",
        "# Criação de um DataFrame df_produtos a partir do dicionário produtos\n",
        "df_produtos = pd.DataFrame(produtos)\n",
        "\n",
        "# Número de vendas\n",
        "num_vendas = 1000\n",
        "\n",
        "# Criação de um dicionário com as informações das vendas\n",
        "data_vendas = {\n",
        "    'data': np.random.choice(pd.date_range('2024-04-01', periods=30), num_vendas),\n",
        "    'produto_id': np.random.randint(1, num_produtos + 1, num_vendas),\n",
        "    'quantidade': np.random.randint(1, 200, num_vendas),\n",
        "    'valor_unitario': np.random.randint(50, 200, num_vendas),\n",
        "    'valor_total': np.random.randint(100, 10000, num_vendas)\n",
        "}\n",
        "\n",
        "# Criação do DataFrame df_vendas a partir do dicionário data_vendas\n",
        "df_vendas = pd.DataFrame(data_vendas)\n",
        "\n",
        "# Salva o DataFrame df_vendas em um arquivo CSV chamado 'vendas.csv' sem incluir o índice\n",
        "df_vendas.to_csv('vendas.csv', index=False)\n",
        "\n",
        "# Salva o DataFrame df_produtos em um arquivo CSV chamado 'produtos.csv' sem incluir o índice\n",
        "df_produtos.to_csv('produtos.csv', index=False)\n",
        "\n",
        "# Lê os dados do arquivo CSV 'vendas.csv' e 'produtos.csv' e carrega-os nos DataFrames df_vendas e df_produtos, respectivamente\n",
        "df_vendas = pd.read_csv('vendas.csv')\n",
        "df_produtos = pd.read_csv('produtos.csv')\n",
        "\n",
        "# Mescla os DataFrames df_vendas e df_produtos com base na coluna 'produto_id' usando um inner join\n",
        "df_merge = pd.merge(df_vendas, df_produtos, on='produto_id', how='inner')\n",
        "\n",
        "# Salva o DataFrame resultante da mescla em um arquivo CSV chamado 'data_warehouse.csv' sem incluir o índice\n",
        "df_merge.to_csv('data_warehouse.csv', index=False)\n",
        "\n",
        "# Lê os dados do arquivo CSV 'data_warehouse.csv' e carrega-os no DataFrame df_warehouse\n",
        "df_warehouse = pd.read_csv('data_warehouse.csv')\n",
        "\n",
        "# Imprime o conteúdo do DataFrame df_warehouse\n",
        "print(\"Conteúdo do Data Warehouse:\")\n",
        "print(df_warehouse)\n",
        "\n"
      ]
    }
  ]
}